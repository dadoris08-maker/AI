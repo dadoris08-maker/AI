{
 "cells": [
  {
   "cell_type": "markdown",
   "id": "4f56262b-07e4-417f-bfaa-c4c8763c8a80",
   "metadata": {},
   "source": [
    "# 5 Number Summaries\n",
    "A five number summary is a simple way to understand the main features of a dataset by looking at just five key values. These five numbers are the minimum (smallest value), first quartile (25th percentile), median (middle value), second quartile (75th percentile), and maximum (largest value). Together, these numbers show you the spread and center of your data, making it easy to spot outliers and understand the overall distribution. The five number summary is especially useful because it gives you a quick snapshot of your data. For example, if you have test scores from a class, the five number summary would tell you the lowest score, highest score, middle score, and the scores that divide the bottom 25% and top 25% from the rest."
   ]
  },
  {
   "cell_type": "markdown",
   "id": "82986694-9a04-4769-99da-874b059a0fb4",
   "metadata": {},
   "source": [
    "### Example"
   ]
  },
  {
   "cell_type": "code",
   "execution_count": 14,
   "id": "78bb2ea4-5976-4270-b07d-84332e2299a0",
   "metadata": {},
   "outputs": [],
   "source": [
    "import pandas as pd\n",
    "import numpy as np\n",
    "import seaborn as sns\n",
    "import matplotlib.pyplot as plt"
   ]
  },
  {
   "cell_type": "code",
   "execution_count": 4,
   "id": "2c977989-702f-4319-ab8f-540e6e04ea36",
   "metadata": {},
   "outputs": [],
   "source": [
    "# Generate random student test score data\n",
    "np.random.seed(42)\n",
    "student_scores = np.random.normal(loc=78, scale=12, size=50)\n",
    "student_scores = np.clip(student_scores, 0, 100)"
   ]
  },
  {
   "cell_type": "code",
   "execution_count": 5,
   "id": "5a80a02d-7c76-41bc-a59d-ab7027fc07d9",
   "metadata": {},
   "outputs": [],
   "source": [
    "# Create a DataFrame that contains random student test data\n",
    "df = pd.DataFrame({\n",
    "    'Student_ID': range(1, 51),\n",
    "    'Test_Score': student_scores\n",
    "})"
   ]
  },
  {
   "cell_type": "code",
   "execution_count": 7,
   "id": "e03fb7aa-59e0-4637-a408-4e1eaaed7baf",
   "metadata": {},
   "outputs": [
    {
     "data": {
      "text/plain": [
       "count     50.000000\n",
       "mean      75.289766\n",
       "std       11.193742\n",
       "min       54.483959\n",
       "25%       67.668251\n",
       "50%       75.190258\n",
       "75%       82.035307\n",
       "max      100.000000\n",
       "Name: Test_Score, dtype: float64"
      ]
     },
     "execution_count": 7,
     "metadata": {},
     "output_type": "execute_result"
    }
   ],
   "source": [
    "# Create a 5 number summary using 'describe'\n",
    "df['Test_Score'].describe()"
   ]
  },
  {
   "cell_type": "markdown",
   "id": "891d83cc-d1f7-4c93-b229-497e6f8a22a4",
   "metadata": {},
   "source": [
    "# Tips for Interpreting 5 Number Summaries\n",
    "\n",
    "- **Check the Spread (Range)**:\n",
    "Look at the difference between min and max to understand the variability in your data. A large range might suggest that outliers are present, while a small range suggests the data points are more similar to one another.\n",
    "\n",
    "- **Compare Mean vs. Median**:\n",
    "If the mean is much higher than the median, your data is likely right-skewed (pulled up by high values). If the mean is much lower than the median, it's left-skewed (pulled down by low values). When they're close, the data is fairly symmetric.\n",
    "\n",
    "- **Examine the Quartile Distances**:\n",
    "Calculate the difference between Q1 and Q2, and Q3 and Q2. If these differences are similar, your data is fairly symmetric. If one difference is much larger, then more of your data is concentrated there!\n",
    "\n",
    "- **Identify Potential Outliers**:\n",
    "Values that fall far outside the range between Q1 and Q3 might be outliers. A rule of thumb to memorize: anything more than 1.5 times the interquartile range (Q3-Q1) beyond the quartiles is suspicious.\n",
    "\n",
    "- **Consider Context**:\n",
    "Always interpret numbers within the context of what you're measuring. A 20-point range might be huge for test scores (0-100 scale) but tiny for house prices ($100,000s).\n",
    "\n",
    "- **Look for Practical Implications**:\n",
    "Ask yourself: What do these numbers mean for real-world decisions? Are there concerning patterns, like too many low performers or unexpected high values?\n",
    "\n",
    "- **Visualize It**:\n",
    "The five number summary maps perfectly to a box plot, which can help you see these patterns visually and spot outliers more easily. Keep reading to learn how to make a box plot!"
   ]
  },
  {
   "cell_type": "markdown",
   "id": "77145ddd-de52-44df-83a3-f47f6476ec0d",
   "metadata": {},
   "source": [
    "### Interpreting the Test Score 5 Number Summary\n",
    "\n",
    "The class of 50 students performed reasonably well, with an average score of about 75 points. The median of 75.2 is very close to the mean, which suggests the scores are fairly normally distributed without major skewing. There's a 45-point spread between the lowest score (54.5) and highest score (100), which means at least one student got a perfect score on this exam. About 25% of students scored below 67.7, half scored below 75.2, and 75% scored below 82. This means the middle 50% of students (between the first and third quartiles) scored between 67.7 and 82 points. \n",
    "\n",
    "The minimum score of 54.5 might indicate a student who needs extra help, while the maximum of 100 shows at least one student mastered the material completely! The standard deviation of 11.2 points shows there's moderate variation in performance. No students scored three standard deviations above or below the mean, which suggests that no major outliers are found in the test scores. Overall, this looks like a typical class distribution with most students performing around the C+ (75-points) range."
   ]
  },
  {
   "cell_type": "markdown",
   "id": "17602352-8983-4bb9-89e2-93d27288f6df",
   "metadata": {},
   "source": [
    "# Box Plots\n",
    "\n",
    "A box plot, also called a box-and-whisker plot, is a visual representation of the five number summary that makes it easy to see the distribution and spread of your data at a glance. The plot consists of a rectangular box that spans from the first quartile (Q1) to the third quartile (Q3), with a line inside the box marking the median. The \"whiskers\" are lines that extend from the box to the minimum and maximum values, showing the full range of the data. Box plots are particularly useful because they clearly highlight outliers as individual dots beyond the whiskers, and they make it simple to compare multiple groups of data side by side. For example, if you wanted to compare test scores across different classes, you could create box plots for each class and immediately see which class had higher median scores, more variability, or unusual outliers."
   ]
  },
  {
   "cell_type": "markdown",
   "id": "da10b187-10f3-478a-893a-5128b9946fee",
   "metadata": {},
   "source": [
    "### Example"
   ]
  },
  {
   "cell_type": "code",
   "execution_count": 16,
   "id": "220b48cf-c61b-4b7b-aff3-6359b1e2d454",
   "metadata": {},
   "outputs": [],
   "source": [
    "# Create two  different classes of test scores\n",
    "np.random.seed(42)\n",
    "\n",
    "# Class A: High-performing class\n",
    "class_a_scores = np.random.normal(loc=85, scale=8, size=40)\n",
    "class_a_scores = np.clip(class_a_scores, 0, 100)\n",
    "\n",
    "# Class B: Struggling class\n",
    "class_b_scores = np.random.normal(loc=65, scale=15, size=35)\n",
    "class_b_scores = np.clip(class_b_scores, 0, 100)"
   ]
  },
  {
   "cell_type": "code",
   "execution_count": 23,
   "id": "13930a53-8728-43fb-87b0-b5ed62c5e3db",
   "metadata": {},
   "outputs": [],
   "source": [
    "# Create separate DataFrames for each class\n",
    "df_class_a = pd.DataFrame({\n",
    "    'Student_ID': range(1, len(class_a_scores) + 1),\n",
    "    'Test_Score': class_a_scores\n",
    "})\n",
    "\n",
    "df_class_b = pd.DataFrame({\n",
    "    'Student_ID': range(1, len(class_b_scores) + 1),\n",
    "    'Test_Score': class_b_scores\n",
    "})"
   ]
  },
  {
   "cell_type": "code",
   "execution_count": 24,
   "id": "23577833-b2ed-4137-9a9d-c53d11a19bbe",
   "metadata": {},
   "outputs": [
    {
     "data": {
      "text/plain": [
       "<Axes: xlabel='Test_Score', ylabel='Count'>"
      ]
     },
     "execution_count": 24,
     "metadata": {},
     "output_type": "execute_result"
    },
    {
     "data": {
      "image/png": "[encoded data removed]",
      "text/plain": [
       "<Figure size 640x480 with 1 Axes>"
      ]
     },
     "metadata": {},
     "output_type": "display_data"
    }
   ],
   "source": [
    "# Create an overlaid histogram\n",
    "sns.histplot(data=df_class_a, x='Test_Score', bins=10)\n",
    "sns.histplot(data=df_class_b, x='Test_Score', bins=10)"
   ]
  },
  {
   "cell_type": "code",
   "execution_count": 32,
   "id": "3c8d0593-967f-4b8b-8f5a-475baa04c3b8",
   "metadata": {},
   "outputs": [
    {
     "data": {
      "text/plain": [
       "<Axes: ylabel='Test_Score'>"
      ]
     },
     "execution_count": 32,
     "metadata": {},
     "output_type": "execute_result"
    },
    {
     "data": {
      "image/png": "[encoded data removed]",
      "text/plain": [
       "<Figure size 640x480 with 1 Axes>"
      ]
     },
     "metadata": {},
     "output_type": "display_data"
    }
   ],
   "source": [
    "# Create a box plot for class A\n",
    "sns.boxplot(data=df_class_a, y='Test_Score')"
   ]
  },
  {
   "cell_type": "code",
   "execution_count": 33,
   "id": "385a664d-47d6-4f4d-8e3f-6e60959a38fe",
   "metadata": {},
   "outputs": [
    {
     "data": {
      "text/plain": [
       "<Axes: ylabel='Test_Score'>"
      ]
     },
     "execution_count": 33,
     "metadata": {},
     "output_type": "execute_result"
    },
    {
     "data": {
      "image/png": "[encoded data removed]",
      "text/plain": [
       "<Figure size 640x480 with 1 Axes>"
      ]
     },
     "metadata": {},
     "output_type": "display_data"
    }
   ],
   "source": [
    "# Create a box plot for class B\n",
    "sns.boxplot(data=df_class_b, y='Test_Score')"
   ]
  },
  {
   "cell_type": "code",
   "execution_count": 31,
   "id": "a040a8a3-5c0b-4d8f-be78-675ff7be42da",
   "metadata": {},
   "outputs": [
    {
     "data": {
      "text/plain": [
       "<Axes: xlabel='Class', ylabel='Test_Score'>"
      ]
     },
     "execution_count": 31,
     "metadata": {},
     "output_type": "execute_result"
    },
    {
     "data": {
      "image/png": "[encoded data removed]",
      "text/plain": [
       "<Figure size 640x480 with 1 Axes>"
      ]
     },
     "metadata": {},
     "output_type": "display_data"
    }
   ],
   "source": [
    "# It's hard to compare box plots when they're not side-by-side! \n",
    "# Combine the class dataframes and then make a boxplot using the hue argument\n",
    "\n",
    "# Combine\n",
    "df_class_a['Class'] = 'Class A'\n",
    "df_class_b['Class'] = 'Class B'\n",
    "df_combined = pd.concat([df_class_a, df_class_b], ignore_index=True)\n",
    "\n",
    "# Make new boxplot with combined dataframe\n",
    "sns.boxplot(data=df_combined, x='Class', y='Test_Score', hue=\"Class\")"
   ]
  },
  {
   "cell_type": "markdown",
   "id": "8e0a0b37-4033-4ebe-8ff5-73fd37904892",
   "metadata": {},
   "source": [
    "# Tips for Interpreting Box Plots\n",
    "- **Start with the Box (Middle 50% of Data)**:\n",
    "The box represents the interquartile range (IQR) from Q1 to Q3, containing the middle 50% of your data. A tall box means more variability in the middle range, while a short box indicates data clustered tightly around the median.\n",
    "\n",
    "- **Check the Median Line Position**:\n",
    "If the median line is centered in the box, your data is fairly symmetric. If it's closer to the bottom of the box, you have right skew (more extreme high values). If it's near the top, you have left skew (more extreme low values).\n",
    "\n",
    "\n",
    "- **Examine the Whiskers**:\n",
    "The whiskers extend to the most extreme values within 1.5 times the IQR from the box edges. Long whiskers indicate a wide spread of data, while short whiskers suggest data is concentrated near the quartiles.\n",
    "\n",
    "\n",
    "- **Identify Outliers**:\n",
    "Individual dots beyond the whiskers are potential outliers. A few outliers might be normal, but many outliers could indicate data quality issues or a different underlying distribution than expected.\n",
    "\n",
    "\n",
    "- **Compare Whisker Lengths**:\n",
    "Unequal whisker lengths often indicate skewness. A longer upper whisker suggests right skew, while a longer lower whisker suggests left skew.\n",
    "\n",
    "\n",
    "- **Look for Multiple Groups**:\n",
    "When comparing box plots side by side, focus on differences in median positions, box heights, and overall ranges. Non-overlapping boxes usually indicate significantly different groups.\n",
    "\n",
    "\n",
    "- **Consider the Context and Scale**:\n",
    "Always interpret the ranges and medians relative to your measurement scale. A 15-point difference might be huge for test scores (0-100) but tiny for salaries ($1000s)."
   ]
  },
  {
   "cell_type": "markdown",
   "id": "b4c0b389-8b0f-4bed-bb97-d916cff12b1d",
   "metadata": {},
   "source": [
    "### Interpreting the Test Score Box Plots\n",
    "Examine the box plots for these two classes and you will see that the two classes performed differently on the test. Class A (blue) did really well, with a median score around 84 points! That's an average score of a B! Additionally, the middle 50% of Class A's students scored within a 10-point range. The short whiskers and absence of outliers suggest that all students in Class A performed at a consistently high level with minimal variation in performance. \n",
    "\n",
    "In contrast, Class B (orange) shows significantly lower performance with a median around 65 points. That is almost 20 points below Class A's median! Additionally, the large box height tells us that the middle 50% of Class B students span a much wider scoring range than Class A's students. The long whiskers show that some students scores were similar to Class A's lower performers, while others scored significantly lower than Class A's poorest performers. There is a concerning outlier in Class B at approximately 25 points, representing a student who performed far below their classmates. \n",
    "\n",
    "This comparison suggests that Class A represents a well-prepared group of high achievers, while Class B appears to be a class with a mix of struggling students, average performers, and a few higher achievers. Looking at this data suggests that Class B needs more targeted support for its underperforming students."
   ]
  },
  {
   "cell_type": "markdown",
   "id": "ccff063d-35fb-4e99-a0f8-a4a269cf5467",
   "metadata": {},
   "source": [
    "# Now, include a five number summary and box plot in your Pokemon project. You may need to revise your question so that it requires these statistical tools to answer. "
   ]
  }
 ],
 "metadata": {
  "kernelspec": {
   "display_name": "anaconda-panel-2023.05-py310",
   "language": "python",
   "name": "conda-env-anaconda-panel-2023.05-py310-py"
  },
  "language_info": {
   "codemirror_mode": {
    "name": "ipython",
    "version": 3
   },
   "file_extension": ".py",
   "mimetype": "text/x-python",
   "name": "python",
   "nbconvert_exporter": "python",
   "pygments_lexer": "ipython3",
   "version": "3.11.5"
  }
 },
 "nbformat": 4,
 "nbformat_minor": 5
}
