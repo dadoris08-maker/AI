{
 "cells": [
  {
   "cell_type": "markdown",
   "id": "cfb1c964-0792-409c-9e89-a9a72b5e2912",
   "metadata": {},
   "source": [
    "# Directions\n",
    "Please ask a question about Pokemon that requires histograms, measures of central tendency, measures of spread, 5 number summaries, and box plots to answer. Use any data that you would like to perform this analysis. Answer your question as succinctly and as clearly as you can at the bottom of this notebook. Once you are done, please commit and push your project to GitHub."
   ]
  },
  {
   "cell_type": "markdown",
   "id": "13072710-5588-43f4-99a6-9b862a08b24b",
   "metadata": {},
   "source": [
    "# Your question here"
   ]
  },
  {
   "cell_type": "code",
   "execution_count": 2,
   "id": "b4243214-e559-40ed-bb85-0ed1139a6073",
   "metadata": {},
   "outputs": [],
   "source": [
    "# Write the code you need for your analysis here:"
   ]
  },
  {
   "cell_type": "markdown",
   "id": "3802f3e1-b5e5-4772-a960-fc5e176f014e",
   "metadata": {},
   "source": [
    "# Your answer here"
   ]
  }
 ],
 "metadata": {
  "kernelspec": {
   "display_name": "anaconda-2024.02-py310",
   "language": "python",
   "name": "conda-env-anaconda-2024.02-py310-py"
  },
  "language_info": {
   "codemirror_mode": {
    "name": "ipython",
    "version": 3
   },
   "file_extension": ".py",
   "mimetype": "text/x-python",
   "name": "python",
   "nbconvert_exporter": "python",
   "pygments_lexer": "ipython3",
   "version": "3.10.14"
  }
 },
 "nbformat": 4,
 "nbformat_minor": 5
}
