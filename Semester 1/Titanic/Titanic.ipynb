{
 "cells": [
  {
   "cell_type": "markdown",
   "id": "1fb6a866-40ee-4cf4-97b5-27abca0de807",
   "metadata": {},
   "source": [
    "# Question: How do the ticket prices correlate to survival rates?\n",
    "# Observational study: \n",
    "# I have performed a retrospective census on a data set of passengers on the titanic. This study may produce bias due to the varying ticket prices and high mean value. "
   ]
  },
  {
   "cell_type": "code",
   "execution_count": 4,
   "id": "f53bac3a-fecf-4cfb-9943-df2019b27d24",
   "metadata": {},
   "outputs": [
    {
     "name": "stdout",
     "output_type": "stream",
     "text": [
      "Defaulting to user installation because normal site-packages is not writeable\n",
      "Looking in links: /usr/share/pip-wheels\n",
      "Requirement already satisfied: pandas in /opt/conda/envs/anaconda-ai-2024.04-py310/lib/python3.10/site-packages (2.1.4)\n",
      "Requirement already satisfied: numpy<2,>=1.22.4 in /opt/conda/envs/anaconda-ai-2024.04-py310/lib/python3.10/site-packages (from pandas) (1.26.4)\n",
      "Requirement already satisfied: python-dateutil>=2.8.2 in /opt/conda/envs/anaconda-ai-2024.04-py310/lib/python3.10/site-packages (from pandas) (2.8.2)\n",
      "Requirement already satisfied: pytz>=2020.1 in /opt/conda/envs/anaconda-ai-2024.04-py310/lib/python3.10/site-packages (from pandas) (2023.3.post1)\n",
      "Requirement already satisfied: tzdata>=2022.1 in /opt/conda/envs/anaconda-ai-2024.04-py310/lib/python3.10/site-packages (from pandas) (2023.3)\n",
      "Requirement already satisfied: six>=1.5 in /opt/conda/envs/anaconda-ai-2024.04-py310/lib/python3.10/site-packages (from python-dateutil>=2.8.2->pandas) (1.16.0)\n"
     ]
    }
   ],
   "source": [
    "!pip install pandas"
   ]
  },
  {
   "cell_type": "code",
   "execution_count": 3,
   "id": "cc0fbef5-8d5f-4746-b5db-9e22bd0a55de",
   "metadata": {},
   "outputs": [],
   "source": [
    "import pandas as pd"
   ]
  },
  {
   "cell_type": "code",
   "execution_count": 5,
   "id": "18ceb7aa-bd9c-4f97-ae5e-50f75e78e845",
   "metadata": {},
   "outputs": [
    {
     "name": "stdout",
     "output_type": "stream",
     "text": [
      "<class 'pandas.core.frame.DataFrame'>\n",
      "RangeIndex: 3 entries, 0 to 2\n",
      "Data columns (total 4 columns):\n",
      " #   Column                       Non-Null Count  Dtype\n",
      "---  ------                       --------------  -----\n",
      " 0   Pclass                       3 non-null      int64\n",
      " 1   MedianFare_1912_GBP          3 non-null      int64\n",
      " 2   AdjustedMedianFare_2025_GBP  3 non-null      int64\n",
      " 3   AdjustedMedianFare_2025_USD  3 non-null      int64\n",
      "dtypes: int64(4)\n",
      "memory usage: 224.0 bytes\n"
     ]
    }
   ],
   "source": [
    "df = pd.read_csv(\"usdticketprices2025.csv\")\n",
    "df.info()"
   ]
  },
  {
   "cell_type": "code",
   "execution_count": 29,
   "id": "1f9ae778-90c2-4735-ab3e-d56d3dd2f394",
   "metadata": {},
   "outputs": [
    {
     "name": "stdout",
     "output_type": "stream",
     "text": [
      "<class 'pandas.core.frame.DataFrame'>\n",
      "RangeIndex: 891 entries, 0 to 890\n",
      "Data columns (total 12 columns):\n",
      " #   Column       Non-Null Count  Dtype  \n",
      "---  ------       --------------  -----  \n",
      " 0   PassengerId  891 non-null    int64  \n",
      " 1   Survived     891 non-null    int64  \n",
      " 2   Pclass       891 non-null    int64  \n",
      " 3   Name         891 non-null    object \n",
      " 4   Sex          891 non-null    object \n",
      " 5   Age          714 non-null    float64\n",
      " 6   SibSp        891 non-null    int64  \n",
      " 7   Parch        891 non-null    int64  \n",
      " 8   Ticket       891 non-null    object \n",
      " 9   Fare         891 non-null    float64\n",
      " 10  Cabin        204 non-null    object \n",
      " 11  Embarked     889 non-null    object \n",
      "dtypes: float64(2), int64(5), object(5)\n",
      "memory usage: 83.7+ KB\n",
      "Number of samples: 891\n",
      "PassengerId                          7\n",
      "Survived                             0\n",
      "Pclass                               1\n",
      "Name           McCarthy, Mr. Timothy J\n",
      "Sex                               male\n",
      "Age                               54.0\n",
      "SibSp                                0\n",
      "Parch                                0\n",
      "Ticket                           17463\n",
      "Fare                           51.8625\n",
      "Cabin                              E46\n",
      "Embarked                             S\n",
      "Name: 6, dtype: object\n"
     ]
    }
   ],
   "source": [
    "df = pd.read_csv(\"Titanic-Dataset.csv\")\n",
    "df.info()\n",
    "num_samples = df.shape[0]\n",
    "print(\"Number of samples:\", num_samples)\n",
    "print(df.iloc[6])"
   ]
  },
  {
   "cell_type": "code",
   "execution_count": 11,
   "id": "31112be2-5daa-459f-9013-a7c6f5ea1c5e",
   "metadata": {},
   "outputs": [
    {
     "name": "stdout",
     "output_type": "stream",
     "text": [
      "<class 'pandas.core.frame.DataFrame'>\n",
      "RangeIndex: 887 entries, 0 to 886\n",
      "Data columns (total 8 columns):\n",
      " #   Column                   Non-Null Count  Dtype  \n",
      "---  ------                   --------------  -----  \n",
      " 0   Survived                 887 non-null    int64  \n",
      " 1   Pclass                   887 non-null    int64  \n",
      " 2   Name                     887 non-null    object \n",
      " 3   Sex                      887 non-null    object \n",
      " 4   Age                      887 non-null    float64\n",
      " 5   Siblings/Spouses Aboard  887 non-null    int64  \n",
      " 6   Parents/Children Aboard  887 non-null    int64  \n",
      " 7   Fare                     887 non-null    float64\n",
      "dtypes: float64(2), int64(4), object(2)\n",
      "memory usage: 55.6+ KB\n"
     ]
    }
   ],
   "source": [
    "df = pd.read_csv(\"titanic.csv\")\n",
    "df.info()"
   ]
  },
  {
   "cell_type": "code",
   "execution_count": null,
   "id": "1c833c7d-f558-4e38-be05-83566617996e",
   "metadata": {},
   "outputs": [],
   "source": []
  },
  {
   "cell_type": "code",
   "execution_count": 9,
   "id": "1c7007b1-5d4d-4358-b569-e19fe9266803",
   "metadata": {},
   "outputs": [
    {
     "name": "stdout",
     "output_type": "stream",
     "text": [
      "Mean:  32.2042079685746\n",
      "126\n",
      "85\n",
      "216\n",
      "464\n"
     ]
    }
   ],
   "source": [
    "df = pd.read_csv(\"Titanic-Dataset.csv\")\n",
    "mean_value = 0\n",
    "for value in df[\"Fare\"]:\n",
    "    mean_value = mean_value + value\n",
    "mean_value = mean_value/df.shape[0]\n",
    "print(\"Mean: \", mean_value)\n",
    "count_rs = 0\n",
    "count_rd = 0\n",
    "count_ps = 0\n",
    "count_pd = 0\n",
    "for row in df.itertuples(index=True):\n",
    "    if(row.Fare >= mean_value):\n",
    "        if(row.Survived == 1):\n",
    "            count_rs += 1\n",
    "        else:\n",
    "            count_rd += 1\n",
    "    else:\n",
    "        if(row.Survived == 1):\n",
    "            count_ps += 1\n",
    "        else:\n",
    "            count_pd += 1\n",
    "print(count_rs)\n",
    "print(count_rd)\n",
    "print(count_ps)\n",
    "print(count_pd)"
   ]
  },
  {
   "cell_type": "markdown",
   "id": "920402cc-a6b4-44f2-a072-874977278506",
   "metadata": {},
   "source": [
    "# Out of all 211 passengers who spent more than 32 dollars on their ticket, 126 survived and 85 died, and out of all 680 passengers who spent less than $32 dollars on their ticket, 216 survived and 464 died. This data fits the pattern that the more you spent on your ticket, the higher your chances of survival were."
   ]
  },
  {
   "cell_type": "code",
   "execution_count": 8,
   "id": "06c37490-ec64-4b7b-bb7c-387c479364e6",
   "metadata": {},
   "outputs": [
    {
     "name": "stdout",
     "output_type": "stream",
     "text": [
      "Median: 14.4542\n",
      "231\n",
      "220\n",
      "111\n",
      "329\n"
     ]
    }
   ],
   "source": [
    "df = pd.read_csv(\"Titanic-Dataset.csv\")\n",
    "median_value = df[\"Fare\"].median()\n",
    "print(\"Median:\", median_value)\n",
    "count_rs = 0\n",
    "count_rd = 0\n",
    "count_ps = 0\n",
    "count_pd = 0\n",
    "for row in df.itertuples(index=True):\n",
    "    if(row.Fare >= median_value):\n",
    "        if(row.Survived == 1):\n",
    "            count_rs += 1\n",
    "        else:\n",
    "            count_rd += 1\n",
    "    else:\n",
    "        if(row.Survived == 1):\n",
    "            count_ps += 1\n",
    "        else:\n",
    "            count_pd += 1\n",
    "print(count_rs)\n",
    "print(count_rd)\n",
    "print(count_ps)\n",
    "print(count_pd)"
   ]
  }
 ],
 "metadata": {
  "kernelspec": {
   "display_name": "anaconda-ai-2024.04-py310",
   "language": "python",
   "name": "conda-env-anaconda-ai-2024.04-py310-py"
  },
  "language_info": {
   "codemirror_mode": {
    "name": "ipython",
    "version": 3
   },
   "file_extension": ".py",
   "mimetype": "text/x-python",
   "name": "python",
   "nbconvert_exporter": "python",
   "pygments_lexer": "ipython3",
   "version": "3.10.13"
  }
 },
 "nbformat": 4,
 "nbformat_minor": 5
}
