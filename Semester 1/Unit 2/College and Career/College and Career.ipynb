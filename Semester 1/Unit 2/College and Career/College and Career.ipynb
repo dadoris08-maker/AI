{
 "cells": [
  {
   "cell_type": "markdown",
   "id": "772de844-eccd-45fa-aea7-24979fa835e8",
   "metadata": {},
   "source": [
    "# Question:  Should I attend CCA first or go directly to the Colorado School of Mines if I want to minimize my debt after completing a bachelors degree.?\n",
    "\n",
    "The random variable that I am measuring is the debt accumulated after completing the Masters Degree.\n",
    "One trial of this simulation would involve a random student either complete a 2-year degree through CCA first or go through Mines."
   ]
  },
  {
   "cell_type": "code",
   "execution_count": 1,
   "id": "473680d7-04b1-4e4c-b367-dc89b0155beb",
   "metadata": {},
   "outputs": [],
   "source": [
    "import random as rd\n",
    "from collections import Counter\n",
    "import matplotlib.pyplot as plt\n",
    "import pandas as pd\n",
    "import seaborn as sb\n",
    "import statistics"
   ]
  },
  {
   "cell_type": "code",
   "execution_count": 2,
   "id": "f52936df-8fcb-4d8c-afd6-e869d194ed3a",
   "metadata": {},
   "outputs": [],
   "source": [
    "df = pd.read_csv(\"GradData.csv\")"
   ]
  },
  {
   "cell_type": "code",
   "execution_count": 3,
   "id": "4e8b1ce8-ba26-401a-b460-270bebcf6b03",
   "metadata": {},
   "outputs": [],
   "source": [
    "# Run the simulator 100 times\n",
    "passMines = []\n",
    "passCCA = []\n",
    "for i in range(100):\n",
    "    flip = rd.randint(1, 2)\n",
    "    if(flip == 1):\n",
    "        chanceM = rd.randint(1, 100)\n",
    "        passMines.append(chanceM)\n",
    "    else:\n",
    "        chanceC = rd.randint(1, 100)\n",
    "        passCCA.append(chanceC)"
   ]
  },
  {
   "cell_type": "code",
   "execution_count": 4,
   "id": "ada6adf2-436d-496a-a020-4736e5438120",
   "metadata": {},
   "outputs": [],
   "source": [
    "costGMines = []\n",
    "costFMines = []\n",
    "annualCostM = df.loc[df[\"School\"] == \"Mines\", \"AvgAnCost\"].values[0]\n",
    "gradPercentM = df.loc[df[\"School\"] == \"Mines\", \"GradPercent\"].values[0]\n",
    "for x in passMines:\n",
    "    if(x <= gradPercentM):\n",
    "        costGMines.append(annualCostM * 4)\n",
    "    else:\n",
    "        yrs = rd.randint(0, 3)\n",
    "        costFMines.append(annualCostM * yrs)"
   ]
  },
  {
   "cell_type": "code",
   "execution_count": 14,
   "id": "7019ca6c-5f7f-4f83-a652-415ea7687d86",
   "metadata": {},
   "outputs": [],
   "source": [
    "costGCCA = []\n",
    "costFCCA = []\n",
    "annualCostC = df.loc[df[\"School\"] == \"CCA\", \"AvgAnCost\"].values[0]\n",
    "gradPercentC = df.loc[df[\"School\"] == \"CCA\", \"GradPercent\"].values[0]\n",
    "for x in passCCA:\n",
    "    if(x <= gradPercentC):\n",
    "        costGCCA.append(annualCostC * 2)\n",
    "    else:\n",
    "        yrs = rd.randint(0, 1)\n",
    "        costFCCA.append(annualCostC * yrs)\n",
    "\n",
    "costGCCAm = []\n",
    "costGCCAM = []\n",
    "for i, x in enumerate(costGCCA):\n",
    "    rand = rd.randint(1, 100)\n",
    "    if rand <= gradPercentM:\n",
    "        costGCCAM.append(x + (annualCostM * 2))\n",
    "    else:\n",
    "        yrs = rd.randint(0, 1)\n",
    "        costGCCAm.append(x + (annualCostM * yrs))"
   ]
  },
  {
   "cell_type": "code",
   "execution_count": 15,
   "id": "3c09ff83-8465-421d-8d58-e366624a49a2",
   "metadata": {},
   "outputs": [
    {
     "name": "stdout",
     "output_type": "stream",
     "text": [
      "73412.0 \n",
      " 14932.0 \n",
      " 4035.675675675676 \n",
      " 116960.0 \n",
      " 29240.0\n"
     ]
    }
   ],
   "source": [
    "import numpy as np\n",
    "\n",
    "# Convert lists to numpy arrays to use the mean() method\n",
    "# Assuming costGCCA, costFCCA, costGMines, costFMines are lists\n",
    "aGCCAM = np.mean(costGCCAM)\n",
    "aGCCAm = np.mean(costGCCAm)\n",
    "aFCCA = np.mean(costFCCA)\n",
    "aGMines = np.mean(costGMines)\n",
    "aFMines = np.mean(costFMines)\n",
    "\n",
    "print(aGCCAM, '\\n', aGCCAm, '\\n', aFCCA, '\\n', aGMines, '\\n', aFMines)"
   ]
  },
  {
   "cell_type": "markdown",
   "id": "50b07a4c-a176-43da-9298-2dde0480602b",
   "metadata": {},
   "source": [
    "In conclusion, the cost of attending CCA first is 73,412 dollars, which is much cheaper than attending Mines for all 4 years, which costs 116,960 dollars."
   ]
  },
  {
   "cell_type": "code",
   "execution_count": null,
   "id": "8cbc41b9-15e7-4a1f-a7c1-d8f6c4e76b4b",
   "metadata": {},
   "outputs": [],
   "source": []
  }
 ],
 "metadata": {
  "kernelspec": {
   "display_name": "anaconda-panel-2023.05-py310",
   "language": "python",
   "name": "conda-env-anaconda-panel-2023.05-py310-py"
  },
  "language_info": {
   "codemirror_mode": {
    "name": "ipython",
    "version": 3
   },
   "file_extension": ".py",
   "mimetype": "text/x-python",
   "name": "python",
   "nbconvert_exporter": "python",
   "pygments_lexer": "ipython3",
   "version": "3.11.5"
  }
 },
 "nbformat": 4,
 "nbformat_minor": 5
}
